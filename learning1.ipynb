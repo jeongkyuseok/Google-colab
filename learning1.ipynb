{
  "nbformat": 4,
  "nbformat_minor": 0,
  "metadata": {
    "colab": {
      "name": "learning1.ipynb",
      "provenance": [],
      "private_outputs": true,
      "collapsed_sections": [],
      "authorship_tag": "ABX9TyNRa0lXYcTW3B5Ds5Tc+JB8",
      "include_colab_link": true
    },
    "kernelspec": {
      "name": "python3",
      "display_name": "Python 3"
    }
  },
  "cells": [
    {
      "cell_type": "markdown",
      "metadata": {
        "id": "view-in-github",
        "colab_type": "text"
      },
      "source": [
        "<a href=\"https://colab.research.google.com/github/jeongkyuseok/Google-colab/blob/main/learning1.ipynb\" target=\"_parent\"><img src=\"https://colab.research.google.com/assets/colab-badge.svg\" alt=\"Open In Colab\"/></a>"
      ]
    },
    {
      "cell_type": "code",
      "metadata": {
        "id": "ciev6I0x-XcC"
      },
      "source": [
        "from sklearn.model_selection import train_test_split\n",
        "from sklearn.ensemble import RandomForestClassifier\n",
        "from sklearn.ensemble import BaggingClassifier\n",
        "\n",
        "from sklearn.externals import joblib\n",
        "\n",
        "import pandas as pd\n",
        "import numpy as np\n",
        "\n",
        "\n",
        "\n",
        "\n",
        "data_path = \"C:/workspaces/python-project/yong-in/solve_imbalanced/over_sampled_data_set/\"\n",
        "\n",
        "diseases=[\"anthracnose\", \"brown_patch\", \"dollar_spot\", \"fairy_ring\", \"large_patch\",\n",
        "         \"leaf_spot\", \"pythium_blight\", \"pythium_root_dysfunction\", \"summer_patch\", \"yellow_patch\"]\n",
        "\n",
        "S_diseases = [\"fairy_ring\", \"pythium_blight\", \"pythium_root_dysfunction\"]\n",
        "\n",
        "To_path = \"C:/workspaces/python-project/yong-in/modeling/trained_models/\"\n",
        "\n",
        "s_dis_tree_num = {\"fairy_ring\" : 113, \"pythium_blight\" : 459, \"pythium_root_dysfunction\" : 417}\n",
        "\n",
        "for dis in diseases:\n",
        "    num_of_tree = 100\n",
        "\n",
        "    csv_path = data_path + \"over_sampled_\" + dis + \".csv\"\n",
        "\n",
        "    dis_csv = pd.read_csv(csv_path)\n",
        "\n",
        "    csv_np = dis_csv.values\n",
        "\n",
        "    X = csv_np[:, :-1]\n",
        "    y_2d = csv_np[:, -1:]\n",
        "\n",
        "    # Theses 3 lines code make 2d-array(say, y) 1d-array\n",
        "    y = np.array([])\n",
        "    for num in y_2d:\n",
        "        y = np.append(y, num)\n",
        "\n",
        "    # Split data to train-set and test-data, ratio : 0.3\n",
        "    X_train, X_test, y_train, y_test = train_test_split(X, y, test_size=0.3, random_state=42)\n",
        "\n",
        "    if dis in S_diseases:  ## 페어리링, 피시움성 병해\n",
        "        num_of_tree = int( s_dis_tree_num.get(dis) )\n",
        "        print(num_of_tree)\n",
        "\n",
        "        bc = BaggingClassifier(n_estimators = num_of_tree, random_state=777)\n",
        "        bc.fit(X_train, y_train)     ## 훈련\n",
        "\n",
        "        print(dis + \" score : {}\".format( bc.score(X_test, y_test)  ))    ## 훈련한 모델의 정확도 테스트\n",
        "\n",
        "        joblib.dump(bc, To_path + dis + '_model.pkl')  ## 훈련한 모델 저장\n",
        "\n",
        "\n",
        "    else:\n",
        "        forest = RandomForestClassifier(n_estimators = num_of_tree, random_state = 777)\n",
        "        forest.fit(X_train, y_train)\n",
        "\n",
        "        print(dis + \" score : {}\".format(forest.score(X_test, y_test)) )\n",
        "\n",
        "        joblib.dump(forest, To_path + dis + '_model.pkl')\n",
        "\n",
        "    # print(dis,\" 의 학습 소요 시간 : \", time.time() - start)\n",
        "\n",
        "\"\"\"\n",
        "    저장된 모델을 load 해 예측\n",
        "\"\"\"\n",
        "for i, dis in enumerate(diseases):\n",
        "\n",
        "    file_name = To_path + dis + '_model.pkl'\n",
        "\n",
        "    loaded_model = joblib.load(file_name)\n",
        "\n",
        "    # 입력 값은 무조건 2D-array\n",
        "    X_exam = np.array([[0,0,0,0]])\n",
        "\n",
        "    print( \"[[0, 0, 0, 0]] predict : \", loaded_model.predict(X_exam))"
      ],
      "execution_count": null,
      "outputs": []
    }
  ]
}