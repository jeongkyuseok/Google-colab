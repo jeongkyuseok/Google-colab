{
  "nbformat": 4,
  "nbformat_minor": 0,
  "metadata": {
    "colab": {
      "name": "machinelearning_c&g.ipynb",
      "provenance": [],
      "private_outputs": true,
      "collapsed_sections": [],
      "authorship_tag": "ABX9TyO1Coji5CI2imnqqM4haLrh",
      "include_colab_link": true
    },
    "kernelspec": {
      "name": "python3",
      "display_name": "Python 3"
    }
  },
  "cells": [
    {
      "cell_type": "markdown",
      "metadata": {
        "id": "view-in-github",
        "colab_type": "text"
      },
      "source": [
        "<a href=\"https://colab.research.google.com/github/jeongkyuseok/Google-colab/blob/main/machinelearning_c%26g.ipynb\" target=\"_parent\"><img src=\"https://colab.research.google.com/assets/colab-badge.svg\" alt=\"Open In Colab\"/></a>"
      ]
    },
    {
      "cell_type": "code",
      "metadata": {
        "id": "rItWQ5UBnVuV"
      },
      "source": [
        "import pandas as pd\n",
        "from sklearn.model_selection import train_test_split\n",
        "from sklearn import tree\n",
        "from sklearn import svm\n",
        "from sklearn.linear_model import LinearRegression\n",
        "from sklearn.naive_bayes import GaussianNB\n",
        "from sklearn.linear_model import LogisticRegression\n",
        "import seaborn as sns\n",
        "from matplotlib import pyplot as plt\n",
        "\n",
        "def regression_model(model, df1, df2, name):\n",
        "  x = df1[['month','year','chocolate','gum']]\n",
        "  y = df1[['revenue']]\n",
        "  model.fit(x,y)\n",
        "  x_test = df2[['month','year','chocolate','gum']]\n",
        "  y_test = df2[['revenue']]\n",
        "  predictions = model.predict(x_test)\n",
        "  accuracy = model.score(x_test,y_test)\n",
        "  print ('Accuracy : %s' % '{0:.3%}'.format(accuracy), name)\n",
        "  newarray = x_test[['month']].values\n",
        "  newarray2 = newarray.ravel()\n",
        "  newarray3 = x_test[['year']].values\n",
        "  newarray4 = newarray3.ravel()\n",
        "  newarray5 = predictions.ravel()\n",
        "  newdf = pd.DataFrame({'revenue':newarray5, 'month':newarray2, 'year':newarray4})\n",
        "  sns.factorplot(x=\"month\", y=\"revenue\", hue=\"year\", data=newdf)\n",
        "  plt.show()\n",
        "\n",
        "\n",
        "data = pd.read_csv('testing2.csv')\n",
        "df = pd.DataFrame(data)\n",
        "x = df[['month','year','chocolate','gum']]\n",
        "y = df[['revenue']]\n",
        "sns.factorplot(x=\"month\", y=\"revenue\", hue=\"year\", data=df)\n",
        "plt.show()\n",
        "data2 = pd.read_csv('testingval2.csv')\n",
        "df2 = pd.DataFrame(data2)\n",
        "clf1 = svm.SVR()\n",
        "clf2 = tree.DecisionTreeRegressor()\n",
        "clf3 = LinearRegression()\n",
        "clf4 = GaussianNB()\n",
        "clf5 = LogisticRegression()\n",
        "regression_model(clf1, df, df2, \"SVM\")\n",
        "regression_model(clf2, df, df2, \"Decision Tree\")\n",
        "regression_model(clf3, df, df2, \"Linear Regression\")\n",
        "regression_model(clf4, df, df2, \"GaussianNB\")\n",
        "regression_model(clf5, df, df2, \"Logistic Regression\")"
      ],
      "execution_count": null,
      "outputs": []
    },
    {
      "cell_type": "code",
      "metadata": {
        "id": "Cno9COT0rU_P"
      },
      "source": [
        "# Code to read csv file into Colaboratory:\n",
        "!pip install -U -q PyDrive #pip로 되기 전 깔기\n",
        "from pydrive.auth import GoogleAuth\n",
        "from pydrive.drive import GoogleDrive\n",
        "from google.colab import auth\n",
        "from oauth2client.client import GoogleCredentials\n",
        "import pandas as pd\n",
        "\n",
        "# Authenticate and create the PyDrive client.\n",
        "auth.authenticate_user()\n",
        "gauth = GoogleAuth()\n",
        "gauth.credentials = GoogleCredentials.get_application_default()\n",
        "drive = GoogleDrive(gauth)\n",
        "#“Google Cloud SDK wants to access your Google Account” "
      ],
      "execution_count": null,
      "outputs": []
    },
    {
      "cell_type": "code",
      "metadata": {
        "id": "ljTZjImPrXbO"
      },
      "source": [
        "link = 'https://drive.google.com/open?id=1ypuH8inog2f619P0eMxpQskN9FAHWEIZ'\n",
        "#올린 것에 대한 공유명 허용\n",
        "\n",
        "fluff, id = link.split('=')\n",
        "print (id) # Verify that you have everything after '='\n",
        "\n",
        "downloaded = drive.CreateFile({'id':id}) \n",
        "downloaded.GetContentFile('testing.csv')  \n",
        "df3 = pd.read_csv('testing.csv',encoding='ISO-8859-1')"
      ],
      "execution_count": null,
      "outputs": []
    },
    {
      "cell_type": "code",
      "metadata": {
        "id": "7dCzWpm6ripp"
      },
      "source": [
        "link = 'https://drive.google.com/open?id=1Gof-z4kqyRchczoxSF-PCNdg9y0jroAI'\n",
        "#올린 것에 대한 공유명 허용\n",
        "\n",
        "fluff, id = link.split('=')\n",
        "print (id) # Verify that you have everything after '='\n",
        "\n",
        "downloaded = drive.CreateFile({'id':id}) \n",
        "downloaded.GetContentFile('testing.csv')  \n",
        "df3 = pd.read_csv('testing.csv',encoding='ISO-8859-1')"
      ],
      "execution_count": null,
      "outputs": []
    },
    {
      "cell_type": "code",
      "metadata": {
        "id": "tZcXgE2Br6_B"
      },
      "source": [
        "from google.colab import drive\n",
        "drive.mount('/content/gdrive')"
      ],
      "execution_count": null,
      "outputs": []
    }
  ]
}